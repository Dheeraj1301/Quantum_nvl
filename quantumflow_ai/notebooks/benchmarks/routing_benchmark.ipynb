{
  "cells": [
    {
      "cell_type": "markdown",
      "metadata": {},
      "source": "# Routing Benchmark\nThis notebook demonstrates basic usage of the routing modules."
    },
    {
      "cell_type": "code",
      "metadata": {},
      "source": "from quantumflow_ai.modules.q_routing import optimize_routing, classical_route, simulate_token_stream\nmodel_graph = {'experts': [0, 1, 2, 3]}\ntoken_stream = simulate_token_stream(model_graph, num_tokens=8)"
    },
    {
      "cell_type": "code",
      "metadata": {},
      "source": "routing_result = optimize_routing(model_graph, token_stream)\nprint('Optimized routing score:', routing_result['routing_score'])"
    },
    {
      "cell_type": "code",
      "metadata": {},
      "source": "fallback = classical_route(model_graph, token_stream)\nfallback[:3]"
    }
  ],
  "metadata": {
    "kernelspec": {
      "name": "python3",
      "display_name": "Python 3"
    },
    "language_info": {
      "name": "python"
    }
  },
  "nbformat": 4,
  "nbformat_minor": 5
}
