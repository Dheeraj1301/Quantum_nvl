{
 "cells": [
  {
   "cell_type": "markdown",
   "metadata": {},
   "source": "# Routing Benchmark\nThis notebook demonstrates basic usage of the routing modules."
  },
  {
   "cell_type": "code",
   "metadata": {},
   "execution_count": null,
   "outputs": [],
   "source": "import os, sys\nsys.path.append(os.path.abspath('../../'))\nfrom quantumflow_ai.modules.q_routing import optimize_routing, classical_route, simulate_token_stream\nmodel_graph = {'experts': [0, 1, 2, 3]}\ntoken_stream = simulate_token_stream(model_graph, num_tokens=8)"
  },
  {
   "cell_type": "code",
   "metadata": {},
   "execution_count": null,
   "outputs": [],
   "source": "routing_result = optimize_routing(model_graph, token_stream)\nprint('Optimized routing score:', routing_result['routing_score'])"
  },
  {
   "cell_type": "code",
   "metadata": {},
   "execution_count": null,
   "outputs": [],
   "source": "fallback = classical_route(model_graph, token_stream)\nfallback[:3]"
  },
  {
   "cell_type": "code",
   "metadata": {},
   "execution_count": null,
   "outputs": [],
   "source": "from time import time\n\n# Simulate increasing token load\nfor size in [64, 128, 256, 512]:\n    tokens = [{'token_id': i} for i in range(size)]\n    graph = {'experts': list(range(16))}\n\n    t0 = time()\n    result = optimize_routing(graph, tokens)\n    print(f'QAOA | Tokens: {size} | Time: {time() - t0:.2f}s | Score: {result['routing_score']:.4f}')"
  },
  {
   "cell_type": "code",
   "metadata": {},
   "execution_count": null,
   "outputs": [],
   "source": "import pandas as pd\n\ndf = pd.read_csv('../../data/routing_data.csv')\nprint(df.head())"
  }
 ],
 "metadata": {
  "kernelspec": {
   "display_name": "venv",
   "language": "python",
   "name": "python3"
  },
  "language_info": {
   "codemirror_mode": {
    "name": "ipython",
    "version": 3
   },
   "file_extension": ".py",
   "mimetype": "text/x-python",
   "name": "python",
   "nbconvert_exporter": "python",
   "pygments_lexer": "ipython3",
   "version": "3.10.0"
  }
 },
 "nbformat": 4,
 "nbformat_minor": 5
}