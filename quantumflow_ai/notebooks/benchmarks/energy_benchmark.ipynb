{
 "cells": [
  {
   "cell_type": "code",
   "execution_count": null,
   "id": "b14a77f9",
   "metadata": {},
   "outputs": [],
   "source": [
    "# synthetic_energy_dataset.py\n",
    "\n",
    "import random\n",
    "import json\n",
    "\n",
    "def generate_energy_dataset(n_jobs=10, n_samples=500):\n",
    "    data = []\n",
    "    for _ in range(n_samples):\n",
    "        graph = {\"jobs\": {f\"J{i}\": random.sample([f\"J{j}\" for j in range(i)], k=random.randint(0, min(i, 2))) for i in range(n_jobs)}}\n",
    "        energy = {f\"J{i}\": round(random.uniform(2.0, 10.0), 2) for i in range(n_jobs)}\n",
    "        schedule = {f\"J{i}\": random.randint(0, 10) for i in range(n_jobs)}\n",
    "        feature = [schedule[j] * energy[j] for j in schedule]\n",
    "        target = sum(feature)\n",
    "        data.append({\"graph\": graph, \"energy_profile\": energy, \"schedule\": schedule, \"features\": feature, \"cost\": target})\n",
    "\n",
    "    with open(\"notebooks/benchmarks/synthetic_energy_data.json\", \"w\") as f:\n",
    "        json.dump(data, f, indent=2)\n",
    "\n",
    "generate_energy_dataset()\n"
   ]
  }
 ],
 "metadata": {
  "kernelspec": {
   "display_name": "venv",
   "language": "python",
   "name": "python3"
  },
  "language_info": {
   "codemirror_mode": {
    "name": "ipython",
    "version": 3
   },
   "file_extension": ".py",
   "mimetype": "text/x-python",
   "name": "python",
   "nbconvert_exporter": "python",
   "pygments_lexer": "ipython3",
   "version": "3.10.0"
  }
 },
 "nbformat": 4,
 "nbformat_minor": 5
}
