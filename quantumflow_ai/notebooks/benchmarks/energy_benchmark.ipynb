{
 "cells": [
  {
   "cell_type": "code",
   "execution_count": 1,
   "id": "3c58c14a",
   "metadata": {},
   "outputs": [
    {
     "name": "stdout",
     "output_type": "stream",
     "text": [
      "🧠 Project root added to path: c:\\Users\\disha\\OneDrive\\Desktop\\quantum_nvl_folder\\Quantum_nvl\\quantumflow_ai\n"
     ]
    },
    {
     "ename": "ModuleNotFoundError",
     "evalue": "No module named 'quantumflow_ai'",
     "output_type": "error",
     "traceback": [
      "\u001b[1;31m---------------------------------------------------------------------------\u001b[0m",
      "\u001b[1;31mModuleNotFoundError\u001b[0m                       Traceback (most recent call last)",
      "Cell \u001b[1;32mIn[1], line 12\u001b[0m\n\u001b[0;32m      9\u001b[0m \u001b[38;5;28mprint\u001b[39m(\u001b[38;5;124m\"\u001b[39m\u001b[38;5;124m🧠 Project root added to path:\u001b[39m\u001b[38;5;124m\"\u001b[39m, project_root)\n\u001b[0;32m     11\u001b[0m \u001b[38;5;66;03m# ✅ Now import normally\u001b[39;00m\n\u001b[1;32m---> 12\u001b[0m \u001b[38;5;28;01mfrom\u001b[39;00m\u001b[38;5;250m \u001b[39m\u001b[38;5;21;01mquantumflow_ai\u001b[39;00m\u001b[38;5;21;01m.\u001b[39;00m\u001b[38;5;21;01mmodules\u001b[39;00m\u001b[38;5;21;01m.\u001b[39;00m\u001b[38;5;21;01mq_routing\u001b[39;00m\u001b[38;5;250m \u001b[39m\u001b[38;5;28;01mimport\u001b[39;00m optimize_routing, simulate_token_stream\n",
      "\u001b[1;31mModuleNotFoundError\u001b[0m: No module named 'quantumflow_ai'"
     ]
    }
   ],
   "source": [
    "import os\n",
    "import sys\n",
    "\n",
    "# Go two levels up: from notebooks/benchmarks → quantumflow_ai/\n",
    "project_root = os.path.abspath(os.path.join(os.getcwd(), \"..\", \"..\"))\n",
    "sys.path.insert(0, project_root)\n",
    "\n",
    "# 👇 Confirm that it worked:\n",
    "print(\"🧠 Project root added to path:\", project_root)\n",
    "\n",
    "# ✅ Now import normally\n",
    "from quantumflow_ai.modules.q_routing import optimize_routing, simulate_token_stream\n"
   ]
  }
 ],
 "metadata": {
  "kernelspec": {
   "display_name": "venv",
   "language": "python",
   "name": "python3"
  },
  "language_info": {
   "codemirror_mode": {
    "name": "ipython",
    "version": 3
   },
   "file_extension": ".py",
   "mimetype": "text/x-python",
   "name": "python",
   "nbconvert_exporter": "python",
   "pygments_lexer": "ipython3",
   "version": "3.10.0"
  }
 },
 "nbformat": 4,
 "nbformat_minor": 5
}
